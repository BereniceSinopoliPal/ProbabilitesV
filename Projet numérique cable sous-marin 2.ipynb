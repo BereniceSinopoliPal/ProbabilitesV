{
 "cells": [
  {
   "cell_type": "markdown",
   "metadata": {},
   "source": [
    "# Projet Numérique 3 : câble sous-marin\n"
   ]
  },
  {
   "cell_type": "markdown",
   "metadata": {},
   "source": [
    "## Questions théoriques"
   ]
  },
  {
   "cell_type": "markdown",
   "metadata": {},
   "source": [
    "1) Le théorème du cours qui nous autorsie à estimer l'espérance conditionnelle par la moyenne empririque des simulations conditionnelles et la loi des grands nombres que l'on peut appliquer ici car les simulations de la profondeur de câble réalisées sont indépedantes, de même loi et intégrables."
   ]
  },
  {
   "cell_type": "markdown",
   "metadata": {},
   "source": [
    "2) Pour trouver la loi conditionnelle du vecteur des composantes de Z correspondant aux points de discrétisation sans observation, connaissant les valeurs prises par les composantes aux sites d'observation, on utilise les résultats du cours Probabilite IV sur les lois conditionnelles pour les vecteurs Gaussiens à densité."
   ]
  },
  {
   "cell_type": "markdown",
   "metadata": {},
   "source": [
    "Notons $Z_{i}$ le vecteur des composantes inconnues\n",
    "\n",
    "Notons $Z_{c}$ le vecteur des composantes connues (car observées) \n",
    "\n",
    "On cherche donc $f_{Z_{i}, Z_{c}=z_{c}}$\n",
    "\n",
    "\n",
    "$\n",
    "\\begin{aligned}\n",
    "\\text {Notons } C_{Z_{i}} &=\\operatorname{Cov}\\left(Z_{i}, Z_{i}\\right) \\\\\n",
    "C_{Z_{c}} &=\\operatorname{Cov}\\left(Z_{c}, Z_{c}\\right) \\\\\n",
    "C_{Z_{i}, Z_{c}} &=\\operatorname{Cov}\\left(Z_{i}, Z_{c}\\right)\\\\\n",
    "\\end{aligned}\n",
    "$\n",
    "\n",
    "\n",
    "$\\mathrm{CS}_{Z_{i}}$ le complément de Schur de la matrice $C_{Z_{i}}$ \n",
    "\n",
    "Alors on sait que:\n",
    "\n",
    "$$\n",
    "\\begin{aligned}\n",
    "&f_{Z_{i} | Z_{c} = z_{c}}\\left(z_{i}\\right)=\\frac{1}{(2 \\pi)^{k / 2} \\sqrt{\\operatorname{det}\\left(CS_{Z_{i}}\\right)}} \\exp \\left(-\\frac{1}{2}\\left(z_{i}-\\psi\\left(z_{c}\\right)\\right)^{t} \\operatorname{CS}_{Z_{i}}^{-1}\\left(z_{i}-\\psi\\left(z_{c}\\right)\\right)\\right)\\\\\n",
    "\\end{aligned}\n",
    "$$\n",
    "\n",
    "$\n",
    "\\begin{aligned}\n",
    "&avec :\\\\\n",
    "&CS_{Z_{i}}=C_{Z_{i}}-C_{Z_{i}, Z_{c}} C_{Z_{c}}^{-1} C_{Z_{c}, Z_{i}}\\\\\n",
    "&\\psi\\left(z_{c}\\right)=m_{Z_{i} | Z_{c}=z_{c}}=m_{Z_{i}} - C_{Z_{i}, Z_{c}} C_{Z_{c}}^{-1}\\left(Z_{c}-m_{Z_{c}}\\right)\n",
    "\\end{aligned}\n",
    "$"
   ]
  },
  {
   "cell_type": "markdown",
   "metadata": {},
   "source": [
    "3)\n",
    "Soit Y = ($Y_{1}$ ... $Y_{p}$) un vecteur de composantes gausiennes indépendantes, toutes d'espérance nulle et de variance 1.\n",
    "\n",
    "Soit R une matrice p x p, soit m un vecteur de taille p.\n",
    "\n",
    "Notons $\\phi_{X}$, la fonction caractéristique de X, vecteur valeurs dans $\\mathbb{R}^{p}$.\n",
    "\n",
    "Posons $Z=m+RY$\n",
    "\n",
    "Alors, par propriété de transformation linéaire : \n",
    "$$\n",
    "\\phi_{Z}=\\phi_{m+RY}\n",
    "$$\n",
    "$$\n",
    "\\phi_{m+RY}(u)=\\exp (i <u, m>) \\phi_{Y}\\left(R^{t} u\\right) \\quad \\forall u \\in \\mathbb{R}^{p}\n",
    "$$\n",
    "\n",
    "Or on sait que la fonction caractéristique $\\phi_{Z}$ caractérise la loi du vecteur aléatoire Z, ce qui donne le résultat attendu."
   ]
  },
  {
   "cell_type": "markdown",
   "metadata": {},
   "source": [
    "## Questions informatiques"
   ]
  },
  {
   "cell_type": "markdown",
   "metadata": {},
   "source": [
    "#### Préambule"
   ]
  },
  {
   "cell_type": "code",
   "execution_count": 5,
   "metadata": {},
   "outputs": [],
   "source": [
    "import numpy as np\n",
    "import math\n",
    "import matplotlib.pyplot as plt"
   ]
  },
  {
   "cell_type": "markdown",
   "metadata": {},
   "source": [
    "#### Discrétisation"
   ]
  },
  {
   "cell_type": "code",
   "execution_count": 6,
   "metadata": {},
   "outputs": [],
   "source": [
    "A=0\n",
    "B=500\n",
    "N=101\n",
    "Delta = (B-A)/(N-1)\n",
    "discretization_indexes = np.arange(N)\n",
    "dicretization = discretization_indexes*Delta"
   ]
  },
  {
   "cell_type": "markdown",
   "metadata": {},
   "source": [
    "#### Paramètres du modèle"
   ]
  },
  {
   "cell_type": "code",
   "execution_count": 7,
   "metadata": {},
   "outputs": [],
   "source": [
    "mu = -5\n",
    "a = 50\n",
    "sigma2 = 12"
   ]
  },
  {
   "cell_type": "markdown",
   "metadata": {},
   "source": [
    "#### Données"
   ]
  },
  {
   "cell_type": "code",
   "execution_count": 9,
   "metadata": {},
   "outputs": [],
   "source": [
    "observation_indexes = [0, 20, 40, 60, 80, 100]\n",
    "depth = np.array([0, -4, -12.8, -1, -6.5, 0])"
   ]
  },
  {
   "cell_type": "markdown",
   "metadata": {},
   "source": [
    "#### Indices des composantes correspondant aux observations et aux composantes non observées"
   ]
  },
  {
   "cell_type": "code",
   "execution_count": 10,
   "metadata": {},
   "outputs": [],
   "source": [
    "unknown_indexes=list(set(discretization_indexes)-set(observation_indexes))"
   ]
  },
  {
   "cell_type": "markdown",
   "metadata": {},
   "source": [
    "### Question 1"
   ]
  },
  {
   "cell_type": "markdown",
   "metadata": {},
   "source": [
    "#### Pour un couple de points"
   ]
  },
  {
   "cell_type": "code",
   "execution_count": 11,
   "metadata": {},
   "outputs": [],
   "source": [
    "def cov(h, a, sigma2):\n",
    "    return sigma2*np.exp(-h/a)\n",
    "    "
   ]
  },
  {
   "cell_type": "markdown",
   "metadata": {},
   "source": [
    "#### Pour une matrice de covariance"
   ]
  },
  {
   "cell_type": "code",
   "execution_count": 12,
   "metadata": {},
   "outputs": [],
   "source": [
    "def cov_mat(H, a, sigma2): # H est la matrice de distances\n",
    "    n, m = np.shape(H)\n",
    "    C = np.zeros((n,m))\n",
    "    for i in range (n):\n",
    "        for j in range (m):\n",
    "            C[i][j] = cov(H[i][j], a, sigma2)\n",
    "    return C\n",
    "    "
   ]
  },
  {
   "cell_type": "markdown",
   "metadata": {},
   "source": [
    "### Question 2"
   ]
  },
  {
   "cell_type": "code",
   "execution_count": 13,
   "metadata": {},
   "outputs": [],
   "source": [
    "def mat_distance(N, Delta):\n",
    "    H = np.zeros((N, N))\n",
    "    for i in range (N):\n",
    "        for j in range (N):\n",
    "            H[i][j] = abs(i-j)*Delta\n",
    "    return H"
   ]
  },
  {
   "cell_type": "code",
   "execution_count": 14,
   "metadata": {},
   "outputs": [
    {
     "data": {
      "text/plain": [
       "array([[  0.,   5.,  10., ..., 490., 495., 500.],\n",
       "       [  5.,   0.,   5., ..., 485., 490., 495.],\n",
       "       [ 10.,   5.,   0., ..., 480., 485., 490.],\n",
       "       ...,\n",
       "       [490., 485., 480., ...,   0.,   5.,  10.],\n",
       "       [495., 490., 485., ...,   5.,   0.,   5.],\n",
       "       [500., 495., 490., ...,  10.,   5.,   0.]])"
      ]
     },
     "execution_count": 14,
     "metadata": {},
     "output_type": "execute_result"
    }
   ],
   "source": [
    "mat_distance(N, Delta)"
   ]
  },
  {
   "cell_type": "markdown",
   "metadata": {},
   "source": [
    "### Question 3"
   ]
  },
  {
   "cell_type": "code",
   "execution_count": 15,
   "metadata": {},
   "outputs": [],
   "source": [
    "def cov_vecteur(N, Delta, a, sigma2):\n",
    "    H = mat_distance(N, Delta)\n",
    "    return cov_mat(H, a, sigma2)"
   ]
  },
  {
   "cell_type": "markdown",
   "metadata": {},
   "source": [
    "### Question 4"
   ]
  },
  {
   "cell_type": "markdown",
   "metadata": {},
   "source": [
    "#### Matrice de covariance entre les observations"
   ]
  },
  {
   "cell_type": "code",
   "execution_count": 16,
   "metadata": {},
   "outputs": [],
   "source": [
    "def cov_known(observation_indexes, N, Delta, a, sigma2):\n",
    "    C = cov_vecteur(N, Delta, a, sigma2)\n",
    "    k = len(observation_indexes)\n",
    "    Cov_k = np.zeros((k, k))\n",
    "    for i in range(k):\n",
    "        for j in range(k):\n",
    "            Cov_k[i][j] = C[unknown_indexes[i]][unknown_indexes[j]]\n",
    "    return Cov_k"
   ]
  },
  {
   "cell_type": "markdown",
   "metadata": {},
   "source": [
    "#### Matrice de covariance entre les observations et les inconnues"
   ]
  },
  {
   "cell_type": "code",
   "execution_count": 17,
   "metadata": {},
   "outputs": [],
   "source": [
    "def cov_unknown_and_known(observation_indexes, unknown_indexes, N, Delta, a, sigma2):\n",
    "    C = cov_vecteur(N, Delta, a, sigma2)\n",
    "    u = len(unknown_indexes)\n",
    "    k = len(observation_indexes)\n",
    "    Cov_u_k = np.zeros((u, k))\n",
    "    for i in range(u):\n",
    "        for j in range(k):\n",
    "            Cov_u_k[i][j] = C[unknown_indexes[i]][observation_indexes[j]]\n",
    "    return Cov_u_k"
   ]
  },
  {
   "cell_type": "markdown",
   "metadata": {},
   "source": [
    "#### Matrice de covariance entre les inconnues"
   ]
  },
  {
   "cell_type": "code",
   "execution_count": 18,
   "metadata": {},
   "outputs": [],
   "source": [
    "def cov_unknown(unknown_indexes, N, Delta, a, sigma2):\n",
    "    C = cov_vecteur(N, Delta, a, sigma2)\n",
    "    u = len(unknown_indexes)\n",
    "    Cov_u = np.zeros((u, u))\n",
    "    for i in range(u):\n",
    "        for j in range(u):\n",
    "            Cov_u[i][j] = C[unknown_indexes[i]][unknown_indexes[j]]\n",
    "    return Cov_u"
   ]
  },
  {
   "cell_type": "markdown",
   "metadata": {},
   "source": [
    "### Question 5"
   ]
  },
  {
   "cell_type": "markdown",
   "metadata": {},
   "source": [
    "D'après les résultats du cours Probabilite IV sur les lois conditionnelles pour les vecteurs Gaussiens à densité cités précédemment : \n",
    "\n",
    "$E\\left(Z_{i} | Z_{c}\\right)=\\phi\\left(Z_{c}\\right)=m_{Z_{i}}-C_{Z_{i}, Z_{c}} C_{Z_{c}}^{-1}\\left(Z_{c}-m_{Z_{c}}\\right)$\n"
   ]
  },
  {
   "cell_type": "code",
   "execution_count": 19,
   "metadata": {},
   "outputs": [],
   "source": [
    "def espérance_u_sachant_k(observation_indexes, unknown_indexes, N, Delta, a, sigma2, mu):\n",
    "    Cov_u_k = cov_unknown_and_known(observation_indexes, unknown_indexes, N, Delta, sigma2, mu)\n",
    "    C_k_inv = np.linalg.inv(cov_known(observation_indexes, N, Delta, a, sigma2))\n",
    "    u = len(unknown_indexes)\n",
    "    k = len(observation_indexes)\n",
    "    m_u = np.array([mu]*u)\n",
    "    m_k = np.array([mu]*k)\n",
    "    return np.array(m_u - np.dot(Cov_u_k, np.dot(C_k_inv, (depth-m_k))))"
   ]
  },
  {
   "cell_type": "code",
   "execution_count": 20,
   "metadata": {},
   "outputs": [
    {
     "data": {
      "image/png": "[encoded data removed]",
      "text/plain": [
       "<Figure size 432x288 with 1 Axes>"
      ]
     },
     "metadata": {
      "needs_background": "light"
     },
     "output_type": "display_data"
    }
   ],
   "source": [
    "E = espérance_u_sachant_k(observation_indexes, unknown_indexes, N, Delta, a, sigma2, mu)\n",
    "\n",
    "E_liste = [i for i in E]\n",
    "\n",
    "X = [i*Delta for i in range(N)]\n",
    "\n",
    "def intercale(depth, observation_indexes, E_liste):\n",
    "    L = []\n",
    "    marker = 0\n",
    "    for j in range(N):\n",
    "        if j in observation_indexes : \n",
    "            L.append(depth[observation_indexes.index(j)])\n",
    "            marker += 1\n",
    "        else : \n",
    "            L.append(E_liste[j-marker])\n",
    "    return L\n",
    "        \n",
    "\n",
    "plt.plot(X, intercale(depth, observation_indexes, E_liste))\n",
    "plt.show()"
   ]
  },
  {
   "cell_type": "markdown",
   "metadata": {},
   "source": [
    "### Question 6\n",
    "\n",
    "On a vu dans le cours de Probabilités IV que la variable aléatoire $Z_{i}|Z_{c} = z_{c}$ a pour matrice de covariance $CS_{Z_{i}}=C_{Z_{i}}-C_{Z_{i}, Z_{c}} C_{Z_{c}}^{-1} C_{Z_{c}, Z_{i}}$.\n",
    "\n",
    "\n"
   ]
  },
  {
   "cell_type": "code",
   "execution_count": 28,
   "metadata": {},
   "outputs": [
    {
     "name": "stdout",
     "output_type": "stream",
     "text": [
      "[[-28.36088675 -24.51360363 -20.9116609  ...   0.0957346    0.08942714\n",
      "    0.08401469]\n",
      " [-24.51360363 -19.06177623 -16.20472748 ...   0.10162168   0.09504877\n",
      "    0.08942714]\n",
      " [-20.9116609  -16.20472748 -11.65997643 ...   0.10852582   0.10162168\n",
      "    0.0957346 ]\n",
      " ...\n",
      " [  0.0957346    0.10162168   0.10852582 ... -11.65997643 -16.20472748\n",
      "  -20.9116609 ]\n",
      " [  0.08942714   0.09504877   0.10162168 ... -16.20472748 -19.06177623\n",
      "  -24.51360363]\n",
      " [  0.08401469   0.08942714   0.0957346  ... -20.9116609  -24.51360363\n",
      "  -28.36088675]]\n"
     ]
    },
    {
     "data": {
      "image/png": "[encoded data removed]",
      "text/plain": [
       "<Figure size 432x288 with 1 Axes>"
      ]
     },
     "metadata": {
      "needs_background": "light"
     },
     "output_type": "display_data"
    }
   ],
   "source": [
    "C_k = cov_known(observation_indexes, N, Delta, a, sigma2)\n",
    "C_u = cov_unknown(unknown_indexes, N, Delta, a, sigma2)\n",
    "C_uk = cov_unknown_and_known(observation_indexes, unknown_indexes, N, Delta, a, sigma2)\n",
    "\n",
    "V = C_u - np.dot(C_uk, np.dot(np.linalg.inv(C_k),np.transpose(C_uk)))\n",
    "print(V)\n",
    "\n",
    "X = [i*Delta for i in unknown_indexes]\n",
    "Y = [V[i][i] for i in range(len(V[0]))]\n",
    "plt.plot(X,Y)\n",
    "plt.show()"
   ]
  },
  {
   "cell_type": "markdown",
   "metadata": {},
   "source": [
    "### Question 7\n",
    "\n",
    "D'après le cours de Probabilités IV et la question 2 de la partie théorique, la variable aléatoire $Z_{i}|Z_{c} = z_{c}$ suit une loi gaussienne d'espérance $\\psi\\left(z_{c}\\right)$ et de matrice de covariance $CS_{Z_{i}}=C_{Z_{i}}-C_{Z_{i}, Z_{c}} C_{Z_{c}}^{-1} C_{Z_{c}, Z_{i}}$.\n",
    "\n",
    "Notons $Z_{i}^{j}$ la $j^{ème}$ composante du vecteur $Z$. Elle suit une loi gaussienne d'espérance $m_{j} = \\psi\\left(z_{c}\\right)^{j}$ et de variance $\\sigma_{j}^{2} = CS_{Z_{i}}(j,j)$.\n",
    "\n",
    "On peut donc utiliser la méthode de **Box-Muller** pour simuler chacune des composantes du vecteur $Z_{i}$.\n",
    "\n",
    "Notons $U$ et $V$ deux variables aléatoires indépendantes de loi uniforme sur $]0,1[$.\n",
    "Alors la variable aléatoire $X = \\sqrt { -2\\ln(U)}\\cos(2\\pi V)$ suit une loi normale centrée réduite.\n",
    "\n",
    "Par combinaison linéaire de variables aléatoires gaussiennes indépendantes, $\\sigma_{j}X + m_{j}$ suit une loi normale d'espérance $m_{j}$ et de variance $\\sigma_{j}^{2}$ qui permet de simuler $Z_{i}^{j}$ ."
   ]
  },
  {
   "cell_type": "code",
   "execution_count": null,
   "metadata": {},
   "outputs": [],
   "source": [
    "def simulation_conditionnelle():\n",
    "    return Z"
   ]
  },
  {
   "cell_type": "markdown",
   "metadata": {},
   "source": [
    "### Question 8"
   ]
  },
  {
   "cell_type": "code",
   "execution_count": null,
   "metadata": {},
   "outputs": [],
   "source": [
    "def longueur_cable(Z, Delta):\n",
    "    l = 0\n",
    "    for i in range(N):\n",
    "        l += sqrt(Delta**2 + (Z[i+1]-Z[i])**2)\n",
    "    return l"
   ]
  },
  {
   "cell_type": "markdown",
   "metadata": {},
   "source": [
    "### Question 9"
   ]
  },
  {
   "cell_type": "code",
   "execution_count": null,
   "metadata": {},
   "outputs": [],
   "source": [
    "def longueur_moy(..., nbr, Delta):\n",
    "    l_moy = 0\n",
    "    for i in range(nbr):\n",
    "        Z = simulation_contionelle()\n",
    "        l_moy += longueur_cable(Z, Delta)\n",
    "    return l_moy/nbr\n",
    "\n",
    "def moy_longueur(observation_indexes, unknown_indexes, N, Delta, a, sigma2, mu):\n",
    "    E = espérance_u_sachant_k(observation_indexes, unknown_indexes, N, Delta, a, sigma2, mu)\n",
    "    l = 0\n",
    "    for i in range(N):\n",
    "        l += sqrt(Delta**2 + (E[i+1]-E[i])**2)\n",
    "    return l\n"
   ]
  }
 ],
 "metadata": {
  "kernelspec": {
   "display_name": "Python 3",
   "language": "python",
   "name": "python3"
  },
  "language_info": {
   "codemirror_mode": {
    "name": "ipython",
    "version": 3
   },
   "file_extension": ".py",
   "mimetype": "text/x-python",
   "name": "python",
   "nbconvert_exporter": "python",
   "pygments_lexer": "ipython3",
   "version": "3.7.4"
  }
 },
 "nbformat": 4,
 "nbformat_minor": 2
}
